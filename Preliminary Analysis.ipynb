{
 "cells": [
  {
   "cell_type": "code",
   "execution_count": 1,
   "id": "f12efd87",
   "metadata": {},
   "outputs": [
    {
     "data": {
      "text/plain": [
       "RandomState(MT19937) at 0x13FD19E40"
      ]
     },
     "execution_count": 1,
     "metadata": {},
     "output_type": "execute_result"
    }
   ],
   "source": [
    "import pandas as pd\n",
    "import random\n",
    "import numpy as np\n",
    "from tqdm import tqdm\n",
    "import ipdb\n",
    "import re\n",
    "from collections import Counter\n",
    "\n",
    "import matplotlib.pyplot as plt\n",
    "# import mplcursors\n",
    "import seaborn as sns\n",
    "%matplotlib inline\n",
    "sns.set(style='darkgrid', context='notebook', rc={'figure.figsize':(14,10)}, font_scale=2)\n",
    "\n",
    "pd.set_option('display.max_rows', 100)\n",
    "pd.set_option('display.max_columns', 100)\n",
    "pd.set_option('display.width', None)\n",
    "pd.set_option('display.max_colwidth', None)\n",
    "pd.set_option('chained_assignment',None)\n",
    "\n",
    "# Set random seeds for reproducibility on a specific machine\n",
    "random.seed(1)\n",
    "np.random.seed(1)\n",
    "np.random.RandomState(1)"
   ]
  },
  {
   "cell_type": "code",
   "execution_count": 2,
   "id": "727c38b2",
   "metadata": {},
   "outputs": [],
   "source": [
    "df = pd.read_csv('../../data/cong_data.tsv', sep='\\t')"
   ]
  },
  {
   "cell_type": "code",
   "execution_count": 3,
   "id": "12b48077",
   "metadata": {},
   "outputs": [
    {
     "data": {
      "text/plain": [
       "array([1, 1, 1, ..., 0, 1, 0])"
      ]
     },
     "execution_count": 3,
     "metadata": {},
     "output_type": "execute_result"
    }
   ],
   "source": [
    "group = df['group'].values\n",
    "group"
   ]
  },
  {
   "cell_type": "code",
   "execution_count": 8,
   "id": "137abe36",
   "metadata": {},
   "outputs": [
    {
     "data": {
      "text/plain": [
       "Counter({'warm': 2185, 'cold': 328, 'neutral': 310, 'dunno': 209, 'mixed': 1})"
      ]
     },
     "execution_count": 8,
     "metadata": {},
     "output_type": "execute_result"
    }
   ],
   "source": [
    "Counter(df['Feeling'].values)"
   ]
  },
  {
   "cell_type": "code",
   "execution_count": 7,
   "id": "e905e592",
   "metadata": {},
   "outputs": [],
   "source": [
    "df['affect'] = df.apply(lambda x: 1 if (x['Feeling']=='warm' or x['Behavior']=='app') else 0, axis=1)"
   ]
  },
  {
   "cell_type": "code",
   "execution_count": 8,
   "id": "7e943dc1",
   "metadata": {},
   "outputs": [
    {
     "data": {
      "text/plain": [
       "array([1, 1, 1, ..., 1, 1, 1])"
      ]
     },
     "execution_count": 8,
     "metadata": {},
     "output_type": "execute_result"
    }
   ],
   "source": [
    "affect = df['affect'].values\n",
    "affect"
   ]
  },
  {
   "cell_type": "code",
   "execution_count": 28,
   "id": "a16a9471",
   "metadata": {},
   "outputs": [
    {
     "data": {
      "text/plain": [
       "Counter({1: 2281, 0: 752})"
      ]
     },
     "execution_count": 28,
     "metadata": {},
     "output_type": "execute_result"
    }
   ],
   "source": [
    "Counter(affect)"
   ]
  },
  {
   "cell_type": "code",
   "execution_count": 29,
   "id": "f12f02fc",
   "metadata": {},
   "outputs": [
    {
     "data": {
      "text/plain": [
       "0.752"
      ]
     },
     "execution_count": 29,
     "metadata": {},
     "output_type": "execute_result"
    }
   ],
   "source": [
    "np.round(Counter(affect)[1]/(Counter(affect)[1]+Counter(affect)[0]), 3)"
   ]
  },
  {
   "cell_type": "code",
   "execution_count": 10,
   "id": "daf5c7fe",
   "metadata": {},
   "outputs": [
    {
     "data": {
      "text/plain": [
       "Counter({1: 1516, 0: 1517})"
      ]
     },
     "execution_count": 10,
     "metadata": {},
     "output_type": "execute_result"
    }
   ],
   "source": [
    "Counter(group)"
   ]
  },
  {
   "cell_type": "code",
   "execution_count": 13,
   "id": "21e978bf",
   "metadata": {},
   "outputs": [
    {
     "data": {
      "text/plain": [
       "array([3.761914, 4.046838, 3.608603, ..., 4.258683, 4.266755, 4.178448])"
      ]
     },
     "execution_count": 13,
     "metadata": {},
     "output_type": "execute_result"
    }
   ],
   "source": [
    "spec = df['Specificity'].values\n",
    "spec"
   ]
  },
  {
   "cell_type": "code",
   "execution_count": 14,
   "id": "5addbe5f",
   "metadata": {},
   "outputs": [],
   "source": [
    "from scipy.stats import spearmanr, pearsonr"
   ]
  },
  {
   "cell_type": "code",
   "execution_count": 15,
   "id": "e7607cfa",
   "metadata": {},
   "outputs": [
    {
     "data": {
      "text/plain": [
       "(0.22734386366789328, 7.470915836795385e-37)"
      ]
     },
     "execution_count": 15,
     "metadata": {},
     "output_type": "execute_result"
    }
   ],
   "source": [
    "pearsonr(group, affect)"
   ]
  },
  {
   "cell_type": "code",
   "execution_count": 16,
   "id": "7781a3de",
   "metadata": {},
   "outputs": [
    {
     "data": {
      "text/plain": [
       "SpearmanrResult(correlation=0.227343863667894, pvalue=7.470915836818142e-37)"
      ]
     },
     "execution_count": 16,
     "metadata": {},
     "output_type": "execute_result"
    }
   ],
   "source": [
    "spearmanr(group, affect)"
   ]
  },
  {
   "cell_type": "code",
   "execution_count": 17,
   "id": "53d0164c",
   "metadata": {},
   "outputs": [
    {
     "data": {
      "text/plain": [
       "(-0.07295593127914998, 5.780853913771975e-05)"
      ]
     },
     "execution_count": 17,
     "metadata": {},
     "output_type": "execute_result"
    }
   ],
   "source": [
    "pearsonr(group, spec)"
   ]
  },
  {
   "cell_type": "code",
   "execution_count": 18,
   "id": "d868134c",
   "metadata": {},
   "outputs": [
    {
     "data": {
      "text/plain": [
       "SpearmanrResult(correlation=-0.0680496087043887, pvalue=0.00017649827101029938)"
      ]
     },
     "execution_count": 18,
     "metadata": {},
     "output_type": "execute_result"
    }
   ],
   "source": [
    "spearmanr(group, spec)"
   ]
  },
  {
   "cell_type": "code",
   "execution_count": 26,
   "id": "14671c5b",
   "metadata": {},
   "outputs": [
    {
     "data": {
      "text/html": [
       "<div>\n",
       "<style scoped>\n",
       "    .dataframe tbody tr th:only-of-type {\n",
       "        vertical-align: middle;\n",
       "    }\n",
       "\n",
       "    .dataframe tbody tr th {\n",
       "        vertical-align: top;\n",
       "    }\n",
       "\n",
       "    .dataframe thead th {\n",
       "        text-align: right;\n",
       "    }\n",
       "</style>\n",
       "<table border=\"1\" class=\"dataframe\">\n",
       "  <thead>\n",
       "    <tr style=\"text-align: right;\">\n",
       "      <th></th>\n",
       "      <th>TweetId</th>\n",
       "      <th>tweet</th>\n",
       "      <th>username</th>\n",
       "      <th>mentname</th>\n",
       "      <th>Date</th>\n",
       "      <th>Predom</th>\n",
       "      <th>Feeling</th>\n",
       "      <th>Behavior</th>\n",
       "      <th>Admiration</th>\n",
       "      <th>Admiration_Int</th>\n",
       "      <th>Anger</th>\n",
       "      <th>Anger_Int</th>\n",
       "      <th>Disgust</th>\n",
       "      <th>Disgust_Int</th>\n",
       "      <th>Fear</th>\n",
       "      <th>Fear_Int</th>\n",
       "      <th>Interest</th>\n",
       "      <th>Interest_Int</th>\n",
       "      <th>Joy</th>\n",
       "      <th>Joy_Int</th>\n",
       "      <th>Sadness</th>\n",
       "      <th>Sadness_Int</th>\n",
       "      <th>Surprise</th>\n",
       "      <th>Surprise_Int</th>\n",
       "      <th>group</th>\n",
       "      <th>party</th>\n",
       "      <th>Split</th>\n",
       "      <th>Specificity</th>\n",
       "      <th>affect</th>\n",
       "    </tr>\n",
       "  </thead>\n",
       "  <tbody>\n",
       "    <tr>\n",
       "      <th>1924</th>\n",
       "      <td>629389022222127105</td>\n",
       "      <td>Thx @repnewhouse for supporting #SIGMA, my bill to create an #Obamacare Special Inspector General →</td>\n",
       "      <td>peterroskam</td>\n",
       "      <td>repnewhouse</td>\n",
       "      <td>2015-08-06</td>\n",
       "      <td>predom</td>\n",
       "      <td>warm</td>\n",
       "      <td>app</td>\n",
       "      <td>False</td>\n",
       "      <td>2.000000</td>\n",
       "      <td>False</td>\n",
       "      <td>2.0</td>\n",
       "      <td>False</td>\n",
       "      <td>2.0</td>\n",
       "      <td>False</td>\n",
       "      <td>2.0</td>\n",
       "      <td>False</td>\n",
       "      <td>2.000000</td>\n",
       "      <td>True</td>\n",
       "      <td>2.333333</td>\n",
       "      <td>False</td>\n",
       "      <td>2.0</td>\n",
       "      <td>False</td>\n",
       "      <td>2.0</td>\n",
       "      <td>1</td>\n",
       "      <td>R</td>\n",
       "      <td>train</td>\n",
       "      <td>3.644890</td>\n",
       "      <td>1</td>\n",
       "    </tr>\n",
       "    <tr>\n",
       "      <th>73</th>\n",
       "      <td>1031634800967266305</td>\n",
       "      <td>Thanks, @repblumenauer for joining me in demanding #PaperBallotsNOW. #PAVEAct</td>\n",
       "      <td>ronwyden</td>\n",
       "      <td>repblumenauer</td>\n",
       "      <td>2018-08-20</td>\n",
       "      <td>predom</td>\n",
       "      <td>warm</td>\n",
       "      <td>app</td>\n",
       "      <td>False</td>\n",
       "      <td>2.000000</td>\n",
       "      <td>False</td>\n",
       "      <td>2.0</td>\n",
       "      <td>False</td>\n",
       "      <td>2.0</td>\n",
       "      <td>False</td>\n",
       "      <td>2.0</td>\n",
       "      <td>False</td>\n",
       "      <td>1.666667</td>\n",
       "      <td>True</td>\n",
       "      <td>2.000000</td>\n",
       "      <td>False</td>\n",
       "      <td>2.0</td>\n",
       "      <td>False</td>\n",
       "      <td>2.0</td>\n",
       "      <td>1</td>\n",
       "      <td>D</td>\n",
       "      <td>test</td>\n",
       "      <td>2.908854</td>\n",
       "      <td>1</td>\n",
       "    </tr>\n",
       "    <tr>\n",
       "      <th>65</th>\n",
       "      <td>1026468183652196353</td>\n",
       "      <td>I stood with @repbrianfitz, widow Ellen Saracini, and North Jersey police officers, firefighters, local elected officials, pilots, and flight attendants to call on Congress to pass HR 911, the Saracini Aviation Safety Act of 2017.</td>\n",
       "      <td>repjoshg</td>\n",
       "      <td>repbrianfitz</td>\n",
       "      <td>2018-08-06</td>\n",
       "      <td>predom</td>\n",
       "      <td>warm</td>\n",
       "      <td>app</td>\n",
       "      <td>False</td>\n",
       "      <td>2.000000</td>\n",
       "      <td>False</td>\n",
       "      <td>2.0</td>\n",
       "      <td>False</td>\n",
       "      <td>2.0</td>\n",
       "      <td>False</td>\n",
       "      <td>2.0</td>\n",
       "      <td>True</td>\n",
       "      <td>2.000000</td>\n",
       "      <td>False</td>\n",
       "      <td>2.000000</td>\n",
       "      <td>False</td>\n",
       "      <td>2.0</td>\n",
       "      <td>False</td>\n",
       "      <td>2.0</td>\n",
       "      <td>0</td>\n",
       "      <td>D</td>\n",
       "      <td>test</td>\n",
       "      <td>4.442910</td>\n",
       "      <td>1</td>\n",
       "    </tr>\n",
       "    <tr>\n",
       "      <th>1490</th>\n",
       "      <td>460891102443487232</td>\n",
       "      <td>Appreciate Chairman @darrellissa's leadership in bringing this important legislation to the floor:</td>\n",
       "      <td>repscottrigell</td>\n",
       "      <td>darrellissa</td>\n",
       "      <td>2014-04-28</td>\n",
       "      <td>predom</td>\n",
       "      <td>warm</td>\n",
       "      <td>app</td>\n",
       "      <td>True</td>\n",
       "      <td>2.333333</td>\n",
       "      <td>False</td>\n",
       "      <td>2.0</td>\n",
       "      <td>False</td>\n",
       "      <td>2.0</td>\n",
       "      <td>False</td>\n",
       "      <td>2.0</td>\n",
       "      <td>False</td>\n",
       "      <td>2.000000</td>\n",
       "      <td>True</td>\n",
       "      <td>2.333333</td>\n",
       "      <td>False</td>\n",
       "      <td>2.0</td>\n",
       "      <td>False</td>\n",
       "      <td>2.0</td>\n",
       "      <td>1</td>\n",
       "      <td>R</td>\n",
       "      <td>train</td>\n",
       "      <td>3.042706</td>\n",
       "      <td>1</td>\n",
       "    </tr>\n",
       "    <tr>\n",
       "      <th>2441</th>\n",
       "      <td>821039790833410048</td>\n",
       "      <td>⚡️ How @repjohnlewis, President Obama, other officials &amp; I are honoring Dr. King. #MLKDAY</td>\n",
       "      <td>senmarkey</td>\n",
       "      <td>repjohnlewis</td>\n",
       "      <td>2017-01-16</td>\n",
       "      <td>predom</td>\n",
       "      <td>warm</td>\n",
       "      <td>app</td>\n",
       "      <td>False</td>\n",
       "      <td>2.000000</td>\n",
       "      <td>False</td>\n",
       "      <td>2.0</td>\n",
       "      <td>False</td>\n",
       "      <td>2.0</td>\n",
       "      <td>False</td>\n",
       "      <td>2.0</td>\n",
       "      <td>False</td>\n",
       "      <td>2.000000</td>\n",
       "      <td>False</td>\n",
       "      <td>2.000000</td>\n",
       "      <td>False</td>\n",
       "      <td>2.0</td>\n",
       "      <td>False</td>\n",
       "      <td>2.0</td>\n",
       "      <td>1</td>\n",
       "      <td>D</td>\n",
       "      <td>train</td>\n",
       "      <td>3.278839</td>\n",
       "      <td>1</td>\n",
       "    </tr>\n",
       "  </tbody>\n",
       "</table>\n",
       "</div>"
      ],
      "text/plain": [
       "                  TweetId  \\\n",
       "1924   629389022222127105   \n",
       "73    1031634800967266305   \n",
       "65    1026468183652196353   \n",
       "1490   460891102443487232   \n",
       "2441   821039790833410048   \n",
       "\n",
       "                                                                                                                                                                                                                                         tweet  \\\n",
       "1924                                                                                                                                     Thx @repnewhouse for supporting #SIGMA, my bill to create an #Obamacare Special Inspector General →     \n",
       "73                                                                                                                                                               Thanks, @repblumenauer for joining me in demanding #PaperBallotsNOW. #PAVEAct   \n",
       "65    I stood with @repbrianfitz, widow Ellen Saracini, and North Jersey police officers, firefighters, local elected officials, pilots, and flight attendants to call on Congress to pass HR 911, the Saracini Aviation Safety Act of 2017.     \n",
       "1490                                                                                                                                      Appreciate Chairman @darrellissa's leadership in bringing this important legislation to the floor:     \n",
       "2441                                                                                                                                               ⚡️ How @repjohnlewis, President Obama, other officials & I are honoring Dr. King. #MLKDAY     \n",
       "\n",
       "            username       mentname        Date  Predom Feeling Behavior  \\\n",
       "1924     peterroskam    repnewhouse  2015-08-06  predom    warm      app   \n",
       "73          ronwyden  repblumenauer  2018-08-20  predom    warm      app   \n",
       "65          repjoshg   repbrianfitz  2018-08-06  predom    warm      app   \n",
       "1490  repscottrigell    darrellissa  2014-04-28  predom    warm      app   \n",
       "2441       senmarkey   repjohnlewis  2017-01-16  predom    warm      app   \n",
       "\n",
       "      Admiration  Admiration_Int  Anger  Anger_Int  Disgust  Disgust_Int  \\\n",
       "1924       False        2.000000  False        2.0    False          2.0   \n",
       "73         False        2.000000  False        2.0    False          2.0   \n",
       "65         False        2.000000  False        2.0    False          2.0   \n",
       "1490        True        2.333333  False        2.0    False          2.0   \n",
       "2441       False        2.000000  False        2.0    False          2.0   \n",
       "\n",
       "       Fear  Fear_Int  Interest  Interest_Int    Joy   Joy_Int  Sadness  \\\n",
       "1924  False       2.0     False      2.000000   True  2.333333    False   \n",
       "73    False       2.0     False      1.666667   True  2.000000    False   \n",
       "65    False       2.0      True      2.000000  False  2.000000    False   \n",
       "1490  False       2.0     False      2.000000   True  2.333333    False   \n",
       "2441  False       2.0     False      2.000000  False  2.000000    False   \n",
       "\n",
       "      Sadness_Int  Surprise  Surprise_Int  group party  Split  Specificity  \\\n",
       "1924          2.0     False           2.0      1     R  train     3.644890   \n",
       "73            2.0     False           2.0      1     D   test     2.908854   \n",
       "65            2.0     False           2.0      0     D   test     4.442910   \n",
       "1490          2.0     False           2.0      1     R  train     3.042706   \n",
       "2441          2.0     False           2.0      1     D  train     3.278839   \n",
       "\n",
       "      affect  \n",
       "1924       1  \n",
       "73         1  \n",
       "65         1  \n",
       "1490       1  \n",
       "2441       1  "
      ]
     },
     "execution_count": 26,
     "metadata": {},
     "output_type": "execute_result"
    }
   ],
   "source": [
    "df.sample(5)"
   ]
  },
  {
   "cell_type": "code",
   "execution_count": 32,
   "id": "f5ffe6a3",
   "metadata": {},
   "outputs": [
    {
     "data": {
      "text/plain": [
       "3.49"
      ]
     },
     "execution_count": 32,
     "metadata": {},
     "output_type": "execute_result"
    }
   ],
   "source": [
    "np.round(np.mean(df['Specificity']),2)"
   ]
  },
  {
   "cell_type": "code",
   "execution_count": 33,
   "id": "239dfa49",
   "metadata": {},
   "outputs": [
    {
     "data": {
      "text/plain": [
       "0.53"
      ]
     },
     "execution_count": 33,
     "metadata": {},
     "output_type": "execute_result"
    }
   ],
   "source": [
    "np.round(np.std(df['Specificity']), 2)"
   ]
  },
  {
   "cell_type": "code",
   "execution_count": 37,
   "id": "db1d5fdf",
   "metadata": {},
   "outputs": [],
   "source": [
    "newdf = df[(df['Specificity']<3)|(df['Specificity']>4)]"
   ]
  },
  {
   "cell_type": "code",
   "execution_count": 38,
   "id": "3800c7c8",
   "metadata": {},
   "outputs": [
    {
     "data": {
      "text/plain": [
       "SpearmanrResult(correlation=-0.13345377946081396, pvalue=1.2802883983753608e-05)"
      ]
     },
     "execution_count": 38,
     "metadata": {},
     "output_type": "execute_result"
    }
   ],
   "source": [
    "spearmanr(newdf['group'], newdf['Specificity'])"
   ]
  },
  {
   "cell_type": "code",
   "execution_count": 39,
   "id": "5552cfcc",
   "metadata": {},
   "outputs": [
    {
     "data": {
      "text/plain": [
       "(-0.13189700573478147, 1.617153340276441e-05)"
      ]
     },
     "execution_count": 39,
     "metadata": {},
     "output_type": "execute_result"
    }
   ],
   "source": [
    "pearsonr(newdf['group'], newdf['Specificity'])"
   ]
  },
  {
   "cell_type": "code",
   "execution_count": 49,
   "id": "c222e2b5",
   "metadata": {},
   "outputs": [
    {
     "data": {
      "text/plain": [
       "(589, 29)"
      ]
     },
     "execution_count": 49,
     "metadata": {},
     "output_type": "execute_result"
    }
   ],
   "source": [
    "df[(df['Split']=='train') & (df['affect']==0)].shape"
   ]
  },
  {
   "cell_type": "code",
   "execution_count": 53,
   "id": "061a3477",
   "metadata": {},
   "outputs": [],
   "source": [
    "df.loc[:, ['Split', 'TweetId', 'username', 'mentname', 'Date', 'Feeling', 'Behavior', 'group', 'party', 'Specificity', 'affect']].to_csv('~/Downloads/data.tsv', sep='\\t', index=False)"
   ]
  },
  {
   "cell_type": "code",
   "execution_count": null,
   "id": "9aeb2a35",
   "metadata": {},
   "outputs": [],
   "source": []
  }
 ],
 "metadata": {
  "kernelspec": {
   "display_name": "Python 3 (ipykernel)",
   "language": "python",
   "name": "python3"
  },
  "language_info": {
   "codemirror_mode": {
    "name": "ipython",
    "version": 3
   },
   "file_extension": ".py",
   "mimetype": "text/x-python",
   "name": "python",
   "nbconvert_exporter": "python",
   "pygments_lexer": "ipython3",
   "version": "3.8.16"
  }
 },
 "nbformat": 4,
 "nbformat_minor": 5
}
